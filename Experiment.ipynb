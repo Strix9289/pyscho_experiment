{
 "cells": [
  {
   "cell_type": "markdown",
   "id": "04f5d13e",
   "metadata": {},
   "source": [
    "## 使い方"
   ]
  },
  {
   "cell_type": "markdown",
   "id": "9fde80ac",
   "metadata": {},
   "source": [
    "### 基本\n",
    "下のセルを選択して実行。\n",
    "1実験は50回（n_trialsで変更可能）\n",
    "ウィンドウがでてきたら、実験したい課題の番号を入力。\n",
    "zを押すたび1-2秒のラグがあったのち、文字が表示される。\n",
    "早すぎるとフライングになってやり直し。\n",
    "実験が終わったらファイル名を入力して保存。必ず拡張子を**csv**にする\n",
    "\n",
    "### 課題1\n",
    "単純反応\n",
    "Aが出てくるのでどこでもいいからキーを押す。\n",
    "\n",
    "### 課題2\n",
    "物理的照合\n",
    "26文字のアルファベット大文字が2つ出てくる。\n",
    "50%で同じ文字、50%で違う文字。\n",
    "同じときは、'y', 違う時は 'u' を入力\n",
    "Answer カラムに正しいyとuが、Precisionカラムに正解したか否かを(01)で格納\n",
    "\n",
    "### 課題3\n",
    "名称照合\n",
    "26文字のアルファベットが2つ出てくる。\n",
    "50%で同じ音の文字、50%で違う音の文字が表示される\n",
    "同じときは、'y', 違う時は 'u' を入力\n",
    "Answer カラムに正しいyとuが、Precisionカラムに正解したか否かを(01)で格納\n",
    "\n",
    "### 課題4\n",
    "カテゴリー照合\n",
    "26文字のアルファベットが2つ出てくる。\n",
    "50%で同じ大きさの文字。50%で異なる文字\n",
    "同じときは、'y', 違う時は 'u' を入力\n",
    "Answer カラムに正しいyとuが、Precisionカラムに正解したか否かを(01)で格納"
   ]
  },
  {
   "cell_type": "code",
   "execution_count": 1,
   "id": "9f93ff56",
   "metadata": {
    "scrolled": false
   },
   "outputs": [
    {
     "ename": "ValueError",
     "evalue": "could not convert string to float: 'u'",
     "output_type": "error",
     "traceback": [
      "\u001b[1;31m---------------------------------------------------------------------------\u001b[0m",
      "\u001b[1;31mValueError\u001b[0m                                Traceback (most recent call last)",
      "\u001b[1;32m~\\B3\\pyscho\\hello.py\u001b[0m in \u001b[0;36m<module>\u001b[1;34m\u001b[0m\n\u001b[0;32m    208\u001b[0m         \u001b[0mRTs\u001b[0m\u001b[1;33m[\u001b[0m\u001b[0mt\u001b[0m\u001b[1;33m-\u001b[0m\u001b[1;36m1\u001b[0m\u001b[1;33m]\u001b[0m \u001b[1;33m=\u001b[0m \u001b[0mt2\u001b[0m \u001b[1;33m-\u001b[0m \u001b[0mt1\u001b[0m  \u001b[1;31m# 反応時間\u001b[0m\u001b[1;33m\u001b[0m\u001b[1;33m\u001b[0m\u001b[0m\n\u001b[0;32m    209\u001b[0m         \u001b[0mIntvls\u001b[0m\u001b[1;33m[\u001b[0m\u001b[0mt\u001b[0m\u001b[1;33m-\u001b[0m\u001b[1;36m1\u001b[0m\u001b[1;33m]\u001b[0m \u001b[1;33m=\u001b[0m \u001b[0mg_latencies\u001b[0m\u001b[1;33m[\u001b[0m\u001b[0mpos_g_latencies\u001b[0m\u001b[1;33m]\u001b[0m \u001b[1;31m# インターバル\u001b[0m\u001b[1;33m\u001b[0m\u001b[1;33m\u001b[0m\u001b[0m\n\u001b[1;32m--> 210\u001b[1;33m         \u001b[0mAnswer\u001b[0m\u001b[1;33m[\u001b[0m\u001b[0mt\u001b[0m\u001b[1;33m-\u001b[0m\u001b[1;36m1\u001b[0m\u001b[1;33m]\u001b[0m \u001b[1;33m=\u001b[0m \u001b[0mjudge\u001b[0m\u001b[1;33m\u001b[0m\u001b[1;33m\u001b[0m\u001b[0m\n\u001b[0m\u001b[0;32m    211\u001b[0m \u001b[1;33m\u001b[0m\u001b[0m\n\u001b[0;32m    212\u001b[0m         \u001b[0mt\u001b[0m \u001b[1;33m+=\u001b[0m \u001b[1;36m1\u001b[0m\u001b[1;33m\u001b[0m\u001b[1;33m\u001b[0m\u001b[0m\n",
      "\u001b[1;31mValueError\u001b[0m: could not convert string to float: 'u'"
     ]
    }
   ],
   "source": [
    "%run experiment.py"
   ]
  }
 ],
 "metadata": {
  "kernelspec": {
   "display_name": "Python 3",
   "language": "python",
   "name": "python3"
  },
  "language_info": {
   "codemirror_mode": {
    "name": "ipython",
    "version": 3
   },
   "file_extension": ".py",
   "mimetype": "text/x-python",
   "name": "python",
   "nbconvert_exporter": "python",
   "pygments_lexer": "ipython3",
   "version": "3.6.13"
  }
 },
 "nbformat": 4,
 "nbformat_minor": 5
}